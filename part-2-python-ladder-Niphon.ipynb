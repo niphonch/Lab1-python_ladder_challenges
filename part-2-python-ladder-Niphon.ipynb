{
 "cells": [
  {
   "cell_type": "markdown",
   "metadata": {},
   "source": [
    "<img src=\"http://imgur.com/1ZcRyrc.png\" style=\"float: left; margin: 20px; height: 55px\" />\n",
    "\n",
    "# Python Ladder Challenge - Notebook 2\n",
    "\n",
    "_Author:_ Tim Book"
   ]
  },
  {
   "cell_type": "markdown",
   "metadata": {},
   "source": [
    "# Climb the Ladder!\n",
    "Our class moves quickly! Sometimes, it feels like we make leaps in logic that are a bit too big. Learn Python _slowly_, by doing many, many examples. Problems in this notebook start out easy and progressively get harder, so that the next rung of the Python ladder is always within reach."
   ]
  },
  {
   "cell_type": "markdown",
   "metadata": {},
   "source": [
    "# Section IV: Conditionals and Loops"
   ]
  },
  {
   "cell_type": "markdown",
   "metadata": {},
   "source": [
    "34) Print out the numbers 1 through 10."
   ]
  },
  {
   "cell_type": "code",
   "execution_count": 1,
   "metadata": {},
   "outputs": [
    {
     "name": "stdout",
     "output_type": "stream",
     "text": [
      "1\n",
      "2\n",
      "3\n",
      "4\n",
      "5\n",
      "6\n",
      "7\n",
      "8\n",
      "9\n",
      "10\n"
     ]
    }
   ],
   "source": [
    "for n in range(1,11):\n",
    "    print (n)"
   ]
  },
  {
   "cell_type": "markdown",
   "metadata": {},
   "source": [
    "35) Print out the odd numbers between 1 and 20 by using the third paramter to the `range()` function."
   ]
  },
  {
   "cell_type": "code",
   "execution_count": 2,
   "metadata": {},
   "outputs": [
    {
     "name": "stdout",
     "output_type": "stream",
     "text": [
      "1\n",
      "3\n",
      "5\n",
      "7\n",
      "9\n",
      "11\n",
      "13\n",
      "15\n",
      "17\n",
      "19\n"
     ]
    }
   ],
   "source": [
    "for n in range(1,21,2):\n",
    "    print (n)"
   ]
  },
  {
   "cell_type": "markdown",
   "metadata": {},
   "source": [
    "36) Print out the odd numbers between 1 and 20 by checking if the number is even before printing."
   ]
  },
  {
   "cell_type": "code",
   "execution_count": 3,
   "metadata": {},
   "outputs": [
    {
     "name": "stdout",
     "output_type": "stream",
     "text": [
      "1\n",
      "3\n",
      "5\n",
      "7\n",
      "9\n",
      "11\n",
      "13\n",
      "15\n",
      "17\n",
      "19\n"
     ]
    }
   ],
   "source": [
    "for n in range(1,21):\n",
    "    if n%2 !=0:\n",
    "        print (n)"
   ]
  },
  {
   "cell_type": "markdown",
   "metadata": {},
   "source": [
    "37) What is the sum of the first 100 integers? Hint: Create a variable `total` equal to zero, and increment `total` inside a loop."
   ]
  },
  {
   "cell_type": "code",
   "execution_count": 4,
   "metadata": {},
   "outputs": [
    {
     "data": {
      "text/plain": [
       "5050"
      ]
     },
     "execution_count": 4,
     "metadata": {},
     "output_type": "execute_result"
    }
   ],
   "source": [
    "total = 0\n",
    "for n in range(1,101):\n",
    "    total = total + n\n",
    "total"
   ]
  },
  {
   "cell_type": "markdown",
   "metadata": {},
   "source": [
    "38) For each friend in your `friends` list, print `'PERSON IS AWESOME!'` in all caps, where `PERSON` is of course replaced with your friend's name."
   ]
  },
  {
   "cell_type": "code",
   "execution_count": 24,
   "metadata": {},
   "outputs": [],
   "source": [
    "friends = [\"Alice\", \"Bob\", \"Charlie\", \"Debbie\"]"
   ]
  },
  {
   "cell_type": "code",
   "execution_count": 25,
   "metadata": {},
   "outputs": [
    {
     "name": "stdout",
     "output_type": "stream",
     "text": [
      "ALICE IS AWESOME\n",
      "BOB IS AWESOME\n",
      "CHARLIE IS AWESOME\n",
      "DEBBIE IS AWESOME\n"
     ]
    }
   ],
   "source": [
    "friends = [name.upper() for name in friends]\n",
    "for name in friends:\n",
    "    print(name + \" IS AWESOME\")"
   ]
  },
  {
   "cell_type": "markdown",
   "metadata": {},
   "source": [
    "39) Similar to the last problem, print `'PERSON IS AWESOME!'` for each friend in your friends list _only if their name ends in a vowel_. Otherwise, print `\"person is ok...\"` (all lowercase). "
   ]
  },
  {
   "cell_type": "code",
   "execution_count": 84,
   "metadata": {},
   "outputs": [
    {
     "name": "stdout",
     "output_type": "stream",
     "text": [
      "ALICE IS AWESOME\n",
      "bob is ok...\n",
      "CHARLIE IS AWESOME\n",
      "DEBBIE IS AWESOME\n"
     ]
    }
   ],
   "source": [
    "friends = [name.upper() for name in friends]\n",
    "vowels = ('A','E','I','O','U')\n",
    "for name in friends:\n",
    "    if name.endswith(vowels):\n",
    "        print(name + \" IS AWESOME\")\n",
    "    else:\n",
    "        name_lower = name.lower()\n",
    "        print (name_lower + \" is ok...\")\n"
   ]
  },
  {
   "cell_type": "markdown",
   "metadata": {},
   "source": [
    "40) For each number between 1 and 30 (inclusive), if a number is divisible by 3, print `'Fizz'`. Otherwise, just print the number."
   ]
  },
  {
   "cell_type": "code",
   "execution_count": 30,
   "metadata": {},
   "outputs": [
    {
     "name": "stdout",
     "output_type": "stream",
     "text": [
      "1\n",
      "2\n",
      "Fizz\n",
      "4\n",
      "5\n",
      "Fizz\n",
      "7\n",
      "8\n",
      "Fizz\n",
      "10\n",
      "11\n",
      "Fizz\n",
      "13\n",
      "14\n",
      "Fizz\n",
      "16\n",
      "17\n",
      "Fizz\n",
      "19\n",
      "20\n",
      "Fizz\n",
      "22\n",
      "23\n",
      "Fizz\n",
      "25\n",
      "26\n",
      "Fizz\n",
      "28\n",
      "29\n",
      "Fizz\n"
     ]
    }
   ],
   "source": [
    "for n in range(1,31):\n",
    "    if n%3 == 0:\n",
    "        print('Fizz')\n",
    "    else:\n",
    "        print(n)"
   ]
  },
  {
   "cell_type": "markdown",
   "metadata": {},
   "source": [
    "41) For each number between 1 and 30 (inclusive), if a number is divisible by 5, print `'Buzz'`. Otherwise, just print the number."
   ]
  },
  {
   "cell_type": "code",
   "execution_count": 31,
   "metadata": {},
   "outputs": [
    {
     "name": "stdout",
     "output_type": "stream",
     "text": [
      "1\n",
      "2\n",
      "3\n",
      "4\n",
      "Buzz\n",
      "6\n",
      "7\n",
      "8\n",
      "9\n",
      "Buzz\n",
      "11\n",
      "12\n",
      "13\n",
      "14\n",
      "Buzz\n",
      "16\n",
      "17\n",
      "18\n",
      "19\n",
      "Buzz\n",
      "21\n",
      "22\n",
      "23\n",
      "24\n",
      "Buzz\n",
      "26\n",
      "27\n",
      "28\n",
      "29\n",
      "Buzz\n"
     ]
    }
   ],
   "source": [
    "for n in range(1,31):\n",
    "    if n%5 == 0:\n",
    "        print('Buzz')\n",
    "    else:\n",
    "        print(n)"
   ]
  },
  {
   "cell_type": "markdown",
   "metadata": {},
   "source": [
    "42) **FIZZBUZZ!** For each number between 1 and 30 (inclusive),\n",
    "* if a number is divisible by 3, print `'Fizz'`\n",
    "* if a number is divisible by 5, print `'Buzz'`\n",
    "* if a number is divisible by both 3 and 5, instead print `'FizzBuzz'`,\n",
    "* otherwise, just print the number\n",
    "\n",
    "This problem is the famous \"Fizzbuzz\" problem - and is a very common interview coding challenge! If you can do this without help, you're making awesome progress! Well done!"
   ]
  },
  {
   "cell_type": "code",
   "execution_count": 33,
   "metadata": {},
   "outputs": [
    {
     "name": "stdout",
     "output_type": "stream",
     "text": [
      "1\n",
      "2\n",
      "Fizz\n",
      "4\n",
      "Buzz\n",
      "Fizz\n",
      "7\n",
      "8\n",
      "Fizz\n",
      "Buzz\n",
      "11\n",
      "Fizz\n",
      "13\n",
      "14\n",
      "FizzBuzz\n",
      "16\n",
      "17\n",
      "Fizz\n",
      "19\n",
      "Buzz\n",
      "Fizz\n",
      "22\n",
      "23\n",
      "Fizz\n",
      "Buzz\n",
      "26\n",
      "Fizz\n",
      "28\n",
      "29\n",
      "FizzBuzz\n"
     ]
    }
   ],
   "source": [
    "for n in range(1,31):\n",
    "    if n%15 == 0:\n",
    "        print('FizzBuzz')\n",
    "    elif n%5 == 0:\n",
    "        print('Buzz')\n",
    "    elif n%3 == 0:\n",
    "        print('Fizz') \n",
    "    else:\n",
    "        print (n)"
   ]
  },
  {
   "cell_type": "markdown",
   "metadata": {},
   "source": [
    "43) Define some string `sentence`. If you can't think of a good one, feel free to use `fact` from the previous notebook."
   ]
  },
  {
   "cell_type": "code",
   "execution_count": 34,
   "metadata": {},
   "outputs": [],
   "source": [
    "sentence = \"Python programming is fun.\""
   ]
  },
  {
   "cell_type": "markdown",
   "metadata": {},
   "source": [
    "44) Count the number of vowels in `sentence` (no, y is not a vowel).\n",
    "* _Hint:_ What happens if you loop through a string?"
   ]
  },
  {
   "cell_type": "code",
   "execution_count": 36,
   "metadata": {},
   "outputs": [
    {
     "data": {
      "text/plain": [
       "list['Python programming is fun']"
      ]
     },
     "execution_count": 36,
     "metadata": {},
     "output_type": "execute_result"
    }
   ],
   "source": [
    "vowel = ['a','e','i','o','u']\n",
    "list_sentence = []\n",
    "i = 1\n",
    "for i in sentence[0:-1:1]]"
   ]
  },
  {
   "cell_type": "markdown",
   "metadata": {},
   "source": [
    "45) Define a variable `sentence_rm` that is equal to `sentence` with all vowels removed. \n",
    "* _Hint:_ This is a tough one. Start out with an empty string and concatenate all of the consonants to it inside a loop."
   ]
  },
  {
   "cell_type": "code",
   "execution_count": 136,
   "metadata": {},
   "outputs": [
    {
     "name": "stdout",
     "output_type": "stream",
     "text": [
      "Pythn prgrmmng s fn.\n"
     ]
    }
   ],
   "source": [
    "vowels = ['a', 'e', 'i', 'o', 'u']\n",
    "sentence = \"Python programming is fun.\"\n",
    "sentence_rm = \"\"\n",
    "for x in sentence:\n",
    "        if (x.lower() not in vowels):\n",
    "            sentence_rm += x\n",
    "print(sentence_rm)"
   ]
  },
  {
   "cell_type": "markdown",
   "metadata": {},
   "source": [
    "46) Create a variable `fav_number` equal to whatever is your favorite integer. Write a loop to determine if `fav_number` is prime. Recall that a prime number is any number whose only divisors are 1 and itself. For example, 6 is not prime since it's divisible by 1, 2, 3, and 6. But 7 _is_ prime since it's only divisible by 1 and 7."
   ]
  },
  {
   "cell_type": "code",
   "execution_count": 151,
   "metadata": {},
   "outputs": [
    {
     "name": "stdout",
     "output_type": "stream",
     "text": [
      "4 is not a prime number\n"
     ]
    }
   ],
   "source": [
    "fave_number = 4\n",
    "if fave_number > 1:\n",
    "    for i in range(2,fave_number):\n",
    "        if (fave_number % i) == 0:\n",
    "           print(f\"{fave_number} is not a prime number\")\n",
    "           break\n",
    "    else:\n",
    "           print(f\"{fave_number} is a prime number\")"
   ]
  },
  {
   "cell_type": "markdown",
   "metadata": {},
   "source": [
    "47) A palindromic number reads the same both ways. For example, 1234321 is a palindrome. Write an `if` statement to test whether or not a number is palindromic."
   ]
  },
  {
   "cell_type": "code",
   "execution_count": 58,
   "metadata": {},
   "outputs": [
    {
     "name": "stdout",
     "output_type": "stream",
     "text": [
      "123454321 is a palindrome\n"
     ]
    }
   ],
   "source": [
    "number = 123454321 \n",
    "converted_number = str(number)\n",
    "if converted_number == converted_number[::-1]:\n",
    "    print (converted_number + \" is a palindrome\")"
   ]
  },
  {
   "cell_type": "markdown",
   "metadata": {},
   "source": [
    "48) Find the largest palindrome made from the product of two two-digit numbers.\n",
    "* _Tip:_ Do not worry about the \"efficiency\" of your answer! The easiest answer is very inefficient."
   ]
  },
  {
   "cell_type": "code",
   "execution_count": 98,
   "metadata": {},
   "outputs": [
    {
     "data": {
      "text/plain": [
       "'2882'"
      ]
     },
     "execution_count": 98,
     "metadata": {},
     "output_type": "execute_result"
    }
   ],
   "source": [
    "num_1 = 54\n",
    "num_2 = 55\n",
    "product=num_1*num_2\n",
    "string_product = str(product)\n",
    "palin_list=[]\n",
    "for i in range(1,product+1):\n",
    "    string_product = str(i)\n",
    "    if string_product == string_product[::-1]:\n",
    "        palin_list.append(string_product)\n",
    "palin_list[-1]"
   ]
  },
  {
   "cell_type": "markdown",
   "metadata": {},
   "source": [
    "# Section V: List Comprehensions\n",
    "\n",
    "**Disclaimer:** Many (maybe all) of these exercises can be done without a list comprehension. However, listcomps are often the easiest way to solve a problem like this. Listcomps are also optimized in Python, meaning they are also often the _fastest_ way to solve a problem. In fact, **every problem in this section can be solved in one line of code!**\n",
    "\n",
    "---\n",
    "**IMPORTANT NOTE: Consider all ranges in this section to be *inclusive*.**"
   ]
  },
  {
   "cell_type": "markdown",
   "metadata": {},
   "source": [
    "49) Create a list of the numbers 1 through 10."
   ]
  },
  {
   "cell_type": "code",
   "execution_count": 1,
   "metadata": {},
   "outputs": [
    {
     "data": {
      "text/plain": [
       "[1, 2, 3, 4, 5, 6, 7, 8, 9, 10]"
      ]
     },
     "execution_count": 1,
     "metadata": {},
     "output_type": "execute_result"
    }
   ],
   "source": [
    "list=[1,2,3,4,5,6,7,8,9,10]\n",
    "list"
   ]
  },
  {
   "cell_type": "markdown",
   "metadata": {},
   "source": [
    "50) Create a list of the squares of the numbers between 1 and 10."
   ]
  },
  {
   "cell_type": "code",
   "execution_count": 3,
   "metadata": {},
   "outputs": [
    {
     "data": {
      "text/plain": [
       "[1, 4, 9, 16, 25, 36, 49, 64, 81, 100]"
      ]
     },
     "execution_count": 3,
     "metadata": {},
     "output_type": "execute_result"
    }
   ],
   "source": [
    "list=[]\n",
    "for i in range(1,11):\n",
    "    element = i**2\n",
    "    list.append(element)\n",
    "list"
   ]
  },
  {
   "cell_type": "markdown",
   "metadata": {},
   "source": [
    "51) Create a list of all the even numbers between 18 and 47."
   ]
  },
  {
   "cell_type": "code",
   "execution_count": 4,
   "metadata": {},
   "outputs": [
    {
     "data": {
      "text/plain": [
       "[18, 20, 22, 24, 26, 28, 30, 32, 34, 36, 38, 40, 42, 44, 46]"
      ]
     },
     "execution_count": 4,
     "metadata": {},
     "output_type": "execute_result"
    }
   ],
   "source": [
    "list=[]\n",
    "for i in range(18,48):\n",
    "    if i%2 ==0:\n",
    "        list.append(i)\n",
    "list"
   ]
  },
  {
   "cell_type": "markdown",
   "metadata": {},
   "source": [
    "52) Create a list of the squares of the even numbers between 1 and 20."
   ]
  },
  {
   "cell_type": "code",
   "execution_count": 6,
   "metadata": {},
   "outputs": [
    {
     "data": {
      "text/plain": [
       "[4, 16, 36, 64, 100, 144, 196, 256, 324, 400]"
      ]
     },
     "execution_count": 6,
     "metadata": {},
     "output_type": "execute_result"
    }
   ],
   "source": [
    "list=[]\n",
    "for i in range(1,21):\n",
    "    if i%2 ==0:\n",
    "        element = i**2\n",
    "        list.append(element)\n",
    "list"
   ]
  },
  {
   "cell_type": "markdown",
   "metadata": {},
   "source": [
    "53) What is the sum of the cubes of the numbers between 7 and 37?"
   ]
  },
  {
   "cell_type": "code",
   "execution_count": 10,
   "metadata": {},
   "outputs": [
    {
     "data": {
      "text/plain": [
       "682"
      ]
     },
     "execution_count": 10,
     "metadata": {},
     "output_type": "execute_result"
    }
   ],
   "source": [
    "list=[]\n",
    "for i in range(7,38):\n",
    "    list.append(i)\n",
    "sum(list)"
   ]
  },
  {
   "cell_type": "markdown",
   "metadata": {},
   "source": [
    "54) Create a list of all of the numbers divisible by either 3 or 5 (or both) between 1 and 30."
   ]
  },
  {
   "cell_type": "code",
   "execution_count": 11,
   "metadata": {},
   "outputs": [
    {
     "data": {
      "text/plain": [
       "[3, 5, 6, 9, 10, 12, 15, 18, 20, 21, 24, 25, 27, 30]"
      ]
     },
     "execution_count": 11,
     "metadata": {},
     "output_type": "execute_result"
    }
   ],
   "source": [
    "list=[]\n",
    "for i in range(1,31):\n",
    "    if i%5 == 0 or i%3 == 0 :\n",
    "        list.append(i)\n",
    "list"
   ]
  },
  {
   "cell_type": "markdown",
   "metadata": {},
   "source": [
    "55) Redefine this list to be all uppercase."
   ]
  },
  {
   "cell_type": "code",
   "execution_count": 85,
   "metadata": {},
   "outputs": [],
   "source": [
    "friends = ['Alice', 'Bob', 'Charlie', 'Derek']"
   ]
  },
  {
   "cell_type": "code",
   "execution_count": 20,
   "metadata": {},
   "outputs": [
    {
     "data": {
      "text/plain": [
       "['ALICE', 'BOB', 'CHARLIE', 'DEREK']"
      ]
     },
     "execution_count": 20,
     "metadata": {},
     "output_type": "execute_result"
    }
   ],
   "source": [
    "friends = [name.upper() for name in friends]\n",
    "friends"
   ]
  },
  {
   "cell_type": "markdown",
   "metadata": {},
   "source": [
    "56) Remove all elements from `friends` whose names do not end in a vowel."
   ]
  },
  {
   "cell_type": "code",
   "execution_count": 92,
   "metadata": {},
   "outputs": [
    {
     "data": {
      "text/plain": [
       "['Alice', 'Charlie']"
      ]
     },
     "execution_count": 92,
     "metadata": {},
     "output_type": "execute_result"
    }
   ],
   "source": [
    "vowels = ('a','e','i','o','u')\n",
    "for name in friends:\n",
    "    if not name.endswith(vowels):\n",
    "        friends.remove(name)\n",
    "friends"
   ]
  },
  {
   "cell_type": "markdown",
   "metadata": {},
   "source": [
    "57) Take the `sentence` you used earlier and remove the vowels again. This time, using a one-line list comprehension.\n",
    "\n",
    "* _Hint:_ You'll find the `.join()` method to be useful here."
   ]
  },
  {
   "cell_type": "code",
   "execution_count": 202,
   "metadata": {},
   "outputs": [
    {
     "name": "stdout",
     "output_type": "stream",
     "text": [
      ".\n"
     ]
    }
   ],
   "source": [
    "sentence = \"Python programming is fun.\"\n",
    "vowels = ['a', 'e', 'i', 'o', 'u']\n",
    "sentence_rm = \"\"\n",
    "for x in sentence:\n",
    "        if (x.lower() not in vowels):\n",
    "            sentence_rm = ' '.join(x)\n",
    "print(sentence_rm)"
   ]
  },
  {
   "cell_type": "markdown",
   "metadata": {},
   "source": [
    "58) You need to access Excel files that have names like `Jan 5.xlsx` or `Mar 15.xlsx`. Create a list of January 1 through January 31 like this. That is, create the list of: `['Jan 1.xlsx', 'Jan 2.xlsx', ... , 'Jan 31.xlsx']`."
   ]
  },
  {
   "cell_type": "code",
   "execution_count": 122,
   "metadata": {
    "scrolled": true
   },
   "outputs": [
    {
     "data": {
      "text/plain": [
       "[' Jan 1.xlsx',\n",
       " ' Jan 2.xlsx',\n",
       " ' Jan 3.xlsx',\n",
       " ' Jan 4.xlsx',\n",
       " ' Jan 5.xlsx',\n",
       " ' Jan 6.xlsx',\n",
       " ' Jan 7.xlsx',\n",
       " ' Jan 8.xlsx',\n",
       " ' Jan 9.xlsx',\n",
       " ' Jan 10.xlsx',\n",
       " ' Jan 11.xlsx',\n",
       " ' Jan 12.xlsx',\n",
       " ' Jan 13.xlsx',\n",
       " ' Jan 14.xlsx',\n",
       " ' Jan 15.xlsx',\n",
       " ' Jan 16.xlsx',\n",
       " ' Jan 17.xlsx',\n",
       " ' Jan 18.xlsx',\n",
       " ' Jan 19.xlsx',\n",
       " ' Jan 20.xlsx',\n",
       " ' Jan 21.xlsx',\n",
       " ' Jan 22.xlsx',\n",
       " ' Jan 23.xlsx',\n",
       " ' Jan 24.xlsx',\n",
       " ' Jan 25.xlsx',\n",
       " ' Jan 26.xlsx',\n",
       " ' Jan 27.xlsx',\n",
       " ' Jan 28.xlsx',\n",
       " ' Jan 29.xlsx',\n",
       " ' Jan 30.xlsx',\n",
       " ' Jan 31.xlsx']"
      ]
     },
     "execution_count": 122,
     "metadata": {},
     "output_type": "execute_result"
    }
   ],
   "source": [
    "list =[]\n",
    "for i in range(1,32):\n",
    "    file_name = (f\" Jan {i}.xlsx\")\n",
    "    list.append(file_name)\n",
    "list\n"
   ]
  },
  {
   "cell_type": "markdown",
   "metadata": {},
   "source": [
    "59) Below is a list of amounts in euros. Create a new list, `dollars`, which is these amounts converted to U.S. dollars. There are 1.1 dollars per euro."
   ]
  },
  {
   "cell_type": "code",
   "execution_count": 55,
   "metadata": {},
   "outputs": [],
   "source": [
    "euros = [4.50, 6.70, 3.25, 9.99, 12.75, 0.35]"
   ]
  },
  {
   "cell_type": "code",
   "execution_count": 56,
   "metadata": {},
   "outputs": [
    {
     "data": {
      "text/plain": [
       "[4.95, 7.370000000000001, 3.575, 10.989, 14.025, 0.385]"
      ]
     },
     "execution_count": 56,
     "metadata": {},
     "output_type": "execute_result"
    }
   ],
   "source": [
    "dollars = [i * 1.1 for i in euros]\n",
    "dollars"
   ]
  },
  {
   "cell_type": "markdown",
   "metadata": {},
   "source": [
    "60) Below is a list of heights in inches. In order to ride a roller coaster, you must be at least 5 feet tall (60 inches). Filter this list to be _only_ those heights tall enough to ride."
   ]
  },
  {
   "cell_type": "code",
   "execution_count": 62,
   "metadata": {},
   "outputs": [],
   "source": [
    "heights = [71, 48, 55, 65, 68, 60, 58, 53]"
   ]
  },
  {
   "cell_type": "code",
   "execution_count": 60,
   "metadata": {},
   "outputs": [
    {
     "data": {
      "text/plain": [
       "[71, 65, 68, 60]"
      ]
     },
     "execution_count": 60,
     "metadata": {},
     "output_type": "execute_result"
    }
   ],
   "source": [
    "heights = [height for height in heights if height >= 60]\n",
    "heights "
   ]
  },
  {
   "cell_type": "markdown",
   "metadata": {},
   "source": [
    "61) Repeat the above exercise, except replace the lower heights with a `None` instead of dropping them.\n",
    "* _Hint:_ Python has an in-line `if` statement, sometimes called a _ternary operator_ that you might find useful here. For example:\n",
    "\n",
    "```\n",
    "print(\"Tall enough\" if 72 > 60 else \"Too short\")\n",
    "print(\"Tall enough\" if 52 > 60 else \"Too short\")\n",
    "```"
   ]
  },
  {
   "cell_type": "code",
   "execution_count": 66,
   "metadata": {},
   "outputs": [
    {
     "name": "stdout",
     "output_type": "stream",
     "text": [
      "Tall enough\n",
      "Too short\n",
      "Too short\n",
      "Tall enough\n",
      "Tall enough\n",
      "Tall enough\n",
      "Too short\n",
      "Too short\n"
     ]
    },
    {
     "data": {
      "text/plain": [
       "[71, 'Too short', 'Too short', 65, 68, 60, 'Too short', 'Too short']"
      ]
     },
     "execution_count": 66,
     "metadata": {},
     "output_type": "execute_result"
    }
   ],
   "source": [
    "list =[]\n",
    "for height in heights:\n",
    "    if height >=60:\n",
    "        list.append(height)\n",
    "        print(\"Tall enough\")\n",
    "    else:\n",
    "        list.append(\"Too short\")\n",
    "        print(\"Too short\")\n",
    "list "
   ]
  },
  {
   "cell_type": "markdown",
   "metadata": {},
   "source": [
    "62) Here are more heights below. However, this time, the information is contained in a dictionary. Create a list of the names _and ONLY the names_ of the people who are tall enough to ride the roller coaster.\n",
    "\n",
    "* _Hint:_ How can you loop through a dictionary?"
   ]
  },
  {
   "cell_type": "code",
   "execution_count": 184,
   "metadata": {},
   "outputs": [],
   "source": [
    "people = {\n",
    "    'Aaron': 58,\n",
    "    'Barbara': 66,\n",
    "    'Clarence': 62,\n",
    "    'Donovan': 55,\n",
    "    'Erika': 70,\n",
    "    'Fernando': 72\n",
    "}"
   ]
  },
  {
   "cell_type": "code",
   "execution_count": 186,
   "metadata": {},
   "outputs": [
    {
     "data": {
      "text/plain": [
       "['Barbara', 'Clarence', 'Erika', 'Fernando']"
      ]
     },
     "execution_count": 186,
     "metadata": {},
     "output_type": "execute_result"
    }
   ],
   "source": [
    "list = []\n",
    "for key in people:\n",
    "    if people[key]>60:\n",
    "         list.append(key)\n",
    "list"
   ]
  },
  {
   "cell_type": "code",
   "execution_count": 188,
   "metadata": {},
   "outputs": [
    {
     "data": {
      "text/plain": [
       "dict_values([58, 66, 62, 55, 70, 72])"
      ]
     },
     "execution_count": 188,
     "metadata": {},
     "output_type": "execute_result"
    }
   ],
   "source": [
    "people.values()"
   ]
  },
  {
   "cell_type": "markdown",
   "metadata": {},
   "source": [
    "63) Below we have some more data on our classmates. This time, the dictionary values are test scores. A student's final grade is their _maximum_ score on these three tests. Create a list of the students' final grades."
   ]
  },
  {
   "cell_type": "code",
   "execution_count": 189,
   "metadata": {},
   "outputs": [],
   "source": [
    "people = {\n",
    "    'Aaron': [87, 52, 78],\n",
    "    'Barbara': [92, 79, 85],\n",
    "    'Clarence': [42, 68, 55],\n",
    "    'Donovan': [95, 100, 87],\n",
    "    'Erika': [62, 88, 47],\n",
    "    'Fernando': [84, 99, 0]\n",
    "}"
   ]
  },
  {
   "cell_type": "code",
   "execution_count": 210,
   "metadata": {},
   "outputs": [
    {
     "name": "stdout",
     "output_type": "stream",
     "text": [
      "[87, 92, 68, 100, 88, 99]\n"
     ]
    }
   ],
   "source": [
    "max_score = [max(x) for x in people.values()]\n",
    "print(max_score)"
   ]
  },
  {
   "cell_type": "markdown",
   "metadata": {},
   "source": [
    "64) Repeat the above problem, except create a _dictionary_ of the final scores, where the dictionary keys are the names, and the dictionary values are the final grade.\n",
    "\n",
    "* _Hint:_ You can do **dictionary comprehension** to solve this problem! Yes, it exists!"
   ]
  },
  {
   "cell_type": "code",
   "execution_count": 211,
   "metadata": {},
   "outputs": [
    {
     "name": "stdout",
     "output_type": "stream",
     "text": [
      "{'Aaron': 87, 'Barbara': 92, 'Clarence': 68, 'Donovan': 100, 'Erika': 88, 'Fernando': 99}\n"
     ]
    }
   ],
   "source": [
    "student_score = {name: max(x) for (name,x) in people.items()}\n",
    "print(student_score)"
   ]
  },
  {
   "cell_type": "markdown",
   "metadata": {},
   "source": [
    "65) Using the two lists defined below, create the following resulting list:\n",
    "\n",
    "`['AZ', 'BY', 'CX', 'DW', 'EV']`\n",
    "\n",
    "* _Hint:_ Check out the `zip()` function."
   ]
  },
  {
   "cell_type": "code",
   "execution_count": 109,
   "metadata": {},
   "outputs": [],
   "source": [
    "letters_a = ['A', 'B', 'C', 'D', 'E']\n",
    "letters_z = ['Z', 'Y', 'X', 'W', 'V']"
   ]
  },
  {
   "cell_type": "code",
   "execution_count": 117,
   "metadata": {},
   "outputs": [
    {
     "data": {
      "text/plain": [
       "(('A', 'Z'), ('B', 'Y'), ('C', 'X'), ('D', 'W'), ('E', 'V'))"
      ]
     },
     "execution_count": 117,
     "metadata": {},
     "output_type": "execute_result"
    }
   ],
   "source": [
    "zipped = zip(letters_a, letters_z)\n",
    "tuple(zipped)"
   ]
  },
  {
   "cell_type": "markdown",
   "metadata": {},
   "source": [
    "66) Using `letters_a` defined in the previous problem, create the following list:\n",
    "\n",
    "```\n",
    "[\n",
    "    'A is letter 1 of the alphabet',\n",
    "    'B is letter 2 of the alphabet',\n",
    "    ...\n",
    "]\n",
    "```\n",
    "\n",
    "* _Hint:_ Checkout the `enumerate()` function."
   ]
  },
  {
   "cell_type": "code",
   "execution_count": 120,
   "metadata": {},
   "outputs": [
    {
     "data": {
      "text/plain": [
       "['A is letter 1 of the alphabet',\n",
       " 'B is letter 2 of the alphabet',\n",
       " 'C is letter 3 of the alphabet',\n",
       " 'D is letter 4 of the alphabet',\n",
       " 'E is letter 5 of the alphabet']"
      ]
     },
     "execution_count": 120,
     "metadata": {},
     "output_type": "execute_result"
    }
   ],
   "source": [
    "list=[]\n",
    "for count, value in enumerate(letters_a):\n",
    "    list.append(f\"{value} is letter {count+1} of the alphabet\")\n",
    "list"
   ]
  },
  {
   "cell_type": "markdown",
   "metadata": {},
   "source": [
    "# Section VI: Libraries, imports and some more math!"
   ]
  },
  {
   "cell_type": "markdown",
   "metadata": {},
   "source": [
    "67) Import the `math` library"
   ]
  },
  {
   "cell_type": "code",
   "execution_count": 123,
   "metadata": {},
   "outputs": [],
   "source": [
    "import math"
   ]
  },
  {
   "cell_type": "markdown",
   "metadata": {},
   "source": [
    "68) The `math` library has a lot of cool stuff in it. For this problem, evaluate the following math expressions:"
   ]
  },
  {
   "cell_type": "markdown",
   "metadata": {},
   "source": [
    "a) $\\sin{\\frac{\\pi}{2}}$"
   ]
  },
  {
   "cell_type": "code",
   "execution_count": 124,
   "metadata": {},
   "outputs": [
    {
     "data": {
      "text/plain": [
       "1.0"
      ]
     },
     "execution_count": 124,
     "metadata": {},
     "output_type": "execute_result"
    }
   ],
   "source": [
    "math.sin(math.pi/2)"
   ]
  },
  {
   "cell_type": "markdown",
   "metadata": {},
   "source": [
    "b) $\\ln{\\sqrt{e}}$\n",
    "* _Hint:_ A logarithm with base $e$ is represented by just `log` in `math`. In fact, throughout the course, $\\log$ with no subscript will always denote the natural log (ie, log base $e$)."
   ]
  },
  {
   "cell_type": "code",
   "execution_count": 206,
   "metadata": {},
   "outputs": [
    {
     "data": {
      "text/plain": [
       "0.5"
      ]
     },
     "execution_count": 206,
     "metadata": {},
     "output_type": "execute_result"
    }
   ],
   "source": [
    "math.log(math.sqrt(math.e))"
   ]
  },
  {
   "cell_type": "markdown",
   "metadata": {},
   "source": [
    "c) $e^{3!}$"
   ]
  },
  {
   "cell_type": "code",
   "execution_count": 203,
   "metadata": {},
   "outputs": [
    {
     "data": {
      "text/plain": [
       "403.428793492735"
      ]
     },
     "execution_count": 203,
     "metadata": {},
     "output_type": "execute_result"
    }
   ],
   "source": [
    "math.pow((math.e),math.factorial(3))"
   ]
  },
  {
   "cell_type": "markdown",
   "metadata": {},
   "source": [
    "69) Two popular math functions are the \"round up\" and \"round down\" functions. In computer science, we call them the \"ceiling\" and \"floor\" functions. They're used and denoted as follows:\n",
    "\n",
    "* `ceil(3.8)` $= \\lceil 3.8 \\rceil = 4$\n",
    "* `ceil(3.2)` $= \\lceil 3.2 \\rceil = 4$\n",
    "* `floor(3.8)` $= \\lfloor 3.8 \\rfloor = 3$\n",
    "* `floor(3.2)` $= \\lfloor 3.2 \\rfloor = 3$\n",
    "\n",
    "We _only_ need these two functions out of the `math` library. Use an `import` statement to import _only_ these two functions and verify the above examples are true."
   ]
  },
  {
   "cell_type": "code",
   "execution_count": 129,
   "metadata": {},
   "outputs": [],
   "source": [
    "from math import floor\n",
    "from math import ceil"
   ]
  },
  {
   "cell_type": "code",
   "execution_count": 131,
   "metadata": {},
   "outputs": [
    {
     "name": "stdout",
     "output_type": "stream",
     "text": [
      "4\n",
      "4\n",
      "3\n",
      "3\n"
     ]
    }
   ],
   "source": [
    "print(math.ceil(3.8))\n",
    "print(math.ceil(3.2))\n",
    "print(math.floor(3.8))\n",
    "print(math.floor(3.2))"
   ]
  },
  {
   "cell_type": "markdown",
   "metadata": {},
   "source": [
    "70) We can also _alias_ library names if they're too long and we will be using them often. As we will do many times in this course, import the following three libraries:\n",
    "\n",
    "* Import the `numpy` library, aliasing it as `np`\n",
    "* Import the `pandas` library, aliasing it as `pd`\n",
    "* Import the `matplotlib.pyplot` library and submodule, aliasing it as `plt`"
   ]
  },
  {
   "cell_type": "code",
   "execution_count": 133,
   "metadata": {},
   "outputs": [],
   "source": [
    "import numpy as np\n",
    "import pandas as pd\n",
    "import matplotlib.pyplot as plt"
   ]
  },
  {
   "cell_type": "markdown",
   "metadata": {},
   "source": [
    "71) You can also import everything from a library all at once without needing to prefix it:\n",
    "\n",
    "`from math import *`\n",
    "\n",
    "For this question your task is: _never, **ever**_ do this.\n",
    "\n",
    "Why?\n",
    "1. It \"pollutes\" the namespace with variable names that could easily be overwritten on accident.\n",
    "    - For example, after the import we could accidentally define `sin = 'without'` then be surprised when `sin(0.5)` no longer works!\n",
    "2. It does not show the reader which module a given function came from. \n",
    "    - For example, we see above that `ceil` came from the `math` library since it was noted in the import.\n",
    "    - If we use * is much more difficult to determine which module `ceil` is from."
   ]
  }
 ],
 "metadata": {
  "kernelspec": {
   "display_name": "Python 3 (ipykernel)",
   "language": "python",
   "name": "python3"
  },
  "language_info": {
   "codemirror_mode": {
    "name": "ipython",
    "version": 3
   },
   "file_extension": ".py",
   "mimetype": "text/x-python",
   "name": "python",
   "nbconvert_exporter": "python",
   "pygments_lexer": "ipython3",
   "version": "3.9.12"
  }
 },
 "nbformat": 4,
 "nbformat_minor": 4
}
